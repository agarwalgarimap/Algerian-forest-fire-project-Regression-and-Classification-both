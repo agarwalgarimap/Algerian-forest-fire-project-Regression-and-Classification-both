{
 "cells": [
  {
   "cell_type": "code",
   "execution_count": 1,
   "metadata": {
    "id": "Pq6LihvIHXWZ"
   },
   "outputs": [],
   "source": [
    "import pandas as pd\n",
    "import numpy as np\n",
    "import matplotlib.pyplot as plt\n",
    "import seaborn as sns\n",
    "%matplotlib inline"
   ]
  },
  {
   "cell_type": "code",
   "execution_count": 2,
   "metadata": {},
   "outputs": [],
   "source": [
    "import warnings\n",
    "warnings.filterwarnings('ignore')"
   ]
  },
  {
   "cell_type": "code",
   "execution_count": 3,
   "metadata": {
    "id": "ep32_WS3HXWk"
   },
   "outputs": [],
   "source": [
    "df=pd.read_csv(\"C:\\\\Users\\\\Garima\\\\Downloads\\\\cleaned_data.csv\")"
   ]
  },
  {
   "cell_type": "code",
   "execution_count": 4,
   "metadata": {},
   "outputs": [
    {
     "data": {
      "text/plain": [
       "(244, 15)"
      ]
     },
     "execution_count": 4,
     "metadata": {},
     "output_type": "execute_result"
    }
   ],
   "source": [
    "df.shape"
   ]
  },
  {
   "cell_type": "code",
   "execution_count": 5,
   "metadata": {
    "id": "uaK-HmQRHXWl",
    "outputId": "ff239d4d-e8ef-4f98-9cba-f8eb8d6af08b"
   },
   "outputs": [
    {
     "data": {
      "text/html": [
       "<div>\n",
       "<style scoped>\n",
       "    .dataframe tbody tr th:only-of-type {\n",
       "        vertical-align: middle;\n",
       "    }\n",
       "\n",
       "    .dataframe tbody tr th {\n",
       "        vertical-align: top;\n",
       "    }\n",
       "\n",
       "    .dataframe thead th {\n",
       "        text-align: right;\n",
       "    }\n",
       "</style>\n",
       "<table border=\"1\" class=\"dataframe\">\n",
       "  <thead>\n",
       "    <tr style=\"text-align: right;\">\n",
       "      <th></th>\n",
       "      <th>day</th>\n",
       "      <th>month</th>\n",
       "      <th>year</th>\n",
       "      <th>Temperature</th>\n",
       "      <th>RH</th>\n",
       "      <th>Ws</th>\n",
       "      <th>Rain</th>\n",
       "      <th>FFMC</th>\n",
       "      <th>DMC</th>\n",
       "      <th>DC</th>\n",
       "      <th>ISI</th>\n",
       "      <th>BUI</th>\n",
       "      <th>FWI</th>\n",
       "      <th>Classes</th>\n",
       "      <th>Region</th>\n",
       "    </tr>\n",
       "  </thead>\n",
       "  <tbody>\n",
       "    <tr>\n",
       "      <th>0</th>\n",
       "      <td>1</td>\n",
       "      <td>6</td>\n",
       "      <td>2012</td>\n",
       "      <td>29.0</td>\n",
       "      <td>57.0</td>\n",
       "      <td>18.0</td>\n",
       "      <td>0.0</td>\n",
       "      <td>65.7</td>\n",
       "      <td>3.4</td>\n",
       "      <td>7.6</td>\n",
       "      <td>1.3</td>\n",
       "      <td>3.4</td>\n",
       "      <td>0.5</td>\n",
       "      <td>0</td>\n",
       "      <td>1.0</td>\n",
       "    </tr>\n",
       "    <tr>\n",
       "      <th>1</th>\n",
       "      <td>2</td>\n",
       "      <td>6</td>\n",
       "      <td>2012</td>\n",
       "      <td>29.0</td>\n",
       "      <td>61.0</td>\n",
       "      <td>13.0</td>\n",
       "      <td>1.3</td>\n",
       "      <td>64.4</td>\n",
       "      <td>4.1</td>\n",
       "      <td>7.6</td>\n",
       "      <td>1.0</td>\n",
       "      <td>3.9</td>\n",
       "      <td>0.4</td>\n",
       "      <td>0</td>\n",
       "      <td>1.0</td>\n",
       "    </tr>\n",
       "    <tr>\n",
       "      <th>2</th>\n",
       "      <td>3</td>\n",
       "      <td>6</td>\n",
       "      <td>2012</td>\n",
       "      <td>26.0</td>\n",
       "      <td>82.0</td>\n",
       "      <td>22.0</td>\n",
       "      <td>13.1</td>\n",
       "      <td>47.1</td>\n",
       "      <td>2.5</td>\n",
       "      <td>7.1</td>\n",
       "      <td>0.3</td>\n",
       "      <td>2.7</td>\n",
       "      <td>0.1</td>\n",
       "      <td>0</td>\n",
       "      <td>1.0</td>\n",
       "    </tr>\n",
       "    <tr>\n",
       "      <th>3</th>\n",
       "      <td>4</td>\n",
       "      <td>6</td>\n",
       "      <td>2012</td>\n",
       "      <td>25.0</td>\n",
       "      <td>89.0</td>\n",
       "      <td>13.0</td>\n",
       "      <td>2.5</td>\n",
       "      <td>28.6</td>\n",
       "      <td>1.3</td>\n",
       "      <td>6.9</td>\n",
       "      <td>0.0</td>\n",
       "      <td>1.7</td>\n",
       "      <td>0.0</td>\n",
       "      <td>0</td>\n",
       "      <td>1.0</td>\n",
       "    </tr>\n",
       "    <tr>\n",
       "      <th>4</th>\n",
       "      <td>5</td>\n",
       "      <td>6</td>\n",
       "      <td>2012</td>\n",
       "      <td>27.0</td>\n",
       "      <td>77.0</td>\n",
       "      <td>16.0</td>\n",
       "      <td>0.0</td>\n",
       "      <td>64.8</td>\n",
       "      <td>3.0</td>\n",
       "      <td>14.2</td>\n",
       "      <td>1.2</td>\n",
       "      <td>3.9</td>\n",
       "      <td>0.5</td>\n",
       "      <td>0</td>\n",
       "      <td>1.0</td>\n",
       "    </tr>\n",
       "  </tbody>\n",
       "</table>\n",
       "</div>"
      ],
      "text/plain": [
       "   day  month  year  Temperature    RH    Ws  Rain  FFMC  DMC    DC  ISI  BUI  \\\n",
       "0    1      6  2012         29.0  57.0  18.0   0.0  65.7  3.4   7.6  1.3  3.4   \n",
       "1    2      6  2012         29.0  61.0  13.0   1.3  64.4  4.1   7.6  1.0  3.9   \n",
       "2    3      6  2012         26.0  82.0  22.0  13.1  47.1  2.5   7.1  0.3  2.7   \n",
       "3    4      6  2012         25.0  89.0  13.0   2.5  28.6  1.3   6.9  0.0  1.7   \n",
       "4    5      6  2012         27.0  77.0  16.0   0.0  64.8  3.0  14.2  1.2  3.9   \n",
       "\n",
       "   FWI  Classes  Region  \n",
       "0  0.5        0     1.0  \n",
       "1  0.4        0     1.0  \n",
       "2  0.1        0     1.0  \n",
       "3  0.0        0     1.0  \n",
       "4  0.5        0     1.0  "
      ]
     },
     "execution_count": 5,
     "metadata": {},
     "output_type": "execute_result"
    }
   ],
   "source": [
    "df.head()"
   ]
  },
  {
   "cell_type": "code",
   "execution_count": 6,
   "metadata": {},
   "outputs": [],
   "source": [
    "##drop month,day and yyear\n",
    "df.drop(['day','month','year'],axis=1,inplace=True)"
   ]
  },
  {
   "cell_type": "code",
   "execution_count": 7,
   "metadata": {
    "id": "N0allNEBHXWn",
    "outputId": "3350d2ba-bd47-4c04-dd45-b24c3016819d"
   },
   "outputs": [
    {
     "data": {
      "text/plain": [
       "Index(['Temperature', 'RH', 'Ws', 'Rain', 'FFMC', 'DMC', 'DC', 'ISI', 'BUI',\n",
       "       'FWI', 'Classes', 'Region'],\n",
       "      dtype='object')"
      ]
     },
     "execution_count": 7,
     "metadata": {},
     "output_type": "execute_result"
    }
   ],
   "source": [
    "df.columns"
   ]
  },
  {
   "cell_type": "code",
   "execution_count": 8,
   "metadata": {
    "id": "mHhVwvJXHXWu",
    "outputId": "1b322425-1d31-47c5-e272-0c198cec2a47"
   },
   "outputs": [
    {
     "data": {
      "text/plain": [
       "1    138\n",
       "0    106\n",
       "Name: Classes, dtype: int64"
      ]
     },
     "execution_count": 8,
     "metadata": {},
     "output_type": "execute_result"
    }
   ],
   "source": [
    "df['Classes'].value_counts()"
   ]
  },
  {
   "cell_type": "code",
   "execution_count": 9,
   "metadata": {
    "id": "Jdu-YiFjHXWw"
   },
   "outputs": [],
   "source": [
    "## Independent And dependent features\n",
    "X=df.drop('FWI',axis=1)\n",
    "y=df['FWI']"
   ]
  },
  {
   "cell_type": "code",
   "execution_count": 10,
   "metadata": {
    "id": "03ZOMamIHXWw",
    "outputId": "012defe9-ca14-4c0c-9657-84211494b71a"
   },
   "outputs": [
    {
     "data": {
      "text/html": [
       "<div>\n",
       "<style scoped>\n",
       "    .dataframe tbody tr th:only-of-type {\n",
       "        vertical-align: middle;\n",
       "    }\n",
       "\n",
       "    .dataframe tbody tr th {\n",
       "        vertical-align: top;\n",
       "    }\n",
       "\n",
       "    .dataframe thead th {\n",
       "        text-align: right;\n",
       "    }\n",
       "</style>\n",
       "<table border=\"1\" class=\"dataframe\">\n",
       "  <thead>\n",
       "    <tr style=\"text-align: right;\">\n",
       "      <th></th>\n",
       "      <th>Temperature</th>\n",
       "      <th>RH</th>\n",
       "      <th>Ws</th>\n",
       "      <th>Rain</th>\n",
       "      <th>FFMC</th>\n",
       "      <th>DMC</th>\n",
       "      <th>DC</th>\n",
       "      <th>ISI</th>\n",
       "      <th>BUI</th>\n",
       "      <th>Classes</th>\n",
       "      <th>Region</th>\n",
       "    </tr>\n",
       "  </thead>\n",
       "  <tbody>\n",
       "    <tr>\n",
       "      <th>0</th>\n",
       "      <td>29.0</td>\n",
       "      <td>57.0</td>\n",
       "      <td>18.0</td>\n",
       "      <td>0.0</td>\n",
       "      <td>65.7</td>\n",
       "      <td>3.4</td>\n",
       "      <td>7.6</td>\n",
       "      <td>1.3</td>\n",
       "      <td>3.4</td>\n",
       "      <td>0</td>\n",
       "      <td>1.0</td>\n",
       "    </tr>\n",
       "    <tr>\n",
       "      <th>1</th>\n",
       "      <td>29.0</td>\n",
       "      <td>61.0</td>\n",
       "      <td>13.0</td>\n",
       "      <td>1.3</td>\n",
       "      <td>64.4</td>\n",
       "      <td>4.1</td>\n",
       "      <td>7.6</td>\n",
       "      <td>1.0</td>\n",
       "      <td>3.9</td>\n",
       "      <td>0</td>\n",
       "      <td>1.0</td>\n",
       "    </tr>\n",
       "    <tr>\n",
       "      <th>2</th>\n",
       "      <td>26.0</td>\n",
       "      <td>82.0</td>\n",
       "      <td>22.0</td>\n",
       "      <td>13.1</td>\n",
       "      <td>47.1</td>\n",
       "      <td>2.5</td>\n",
       "      <td>7.1</td>\n",
       "      <td>0.3</td>\n",
       "      <td>2.7</td>\n",
       "      <td>0</td>\n",
       "      <td>1.0</td>\n",
       "    </tr>\n",
       "    <tr>\n",
       "      <th>3</th>\n",
       "      <td>25.0</td>\n",
       "      <td>89.0</td>\n",
       "      <td>13.0</td>\n",
       "      <td>2.5</td>\n",
       "      <td>28.6</td>\n",
       "      <td>1.3</td>\n",
       "      <td>6.9</td>\n",
       "      <td>0.0</td>\n",
       "      <td>1.7</td>\n",
       "      <td>0</td>\n",
       "      <td>1.0</td>\n",
       "    </tr>\n",
       "    <tr>\n",
       "      <th>4</th>\n",
       "      <td>27.0</td>\n",
       "      <td>77.0</td>\n",
       "      <td>16.0</td>\n",
       "      <td>0.0</td>\n",
       "      <td>64.8</td>\n",
       "      <td>3.0</td>\n",
       "      <td>14.2</td>\n",
       "      <td>1.2</td>\n",
       "      <td>3.9</td>\n",
       "      <td>0</td>\n",
       "      <td>1.0</td>\n",
       "    </tr>\n",
       "  </tbody>\n",
       "</table>\n",
       "</div>"
      ],
      "text/plain": [
       "   Temperature    RH    Ws  Rain  FFMC  DMC    DC  ISI  BUI  Classes  Region\n",
       "0         29.0  57.0  18.0   0.0  65.7  3.4   7.6  1.3  3.4        0     1.0\n",
       "1         29.0  61.0  13.0   1.3  64.4  4.1   7.6  1.0  3.9        0     1.0\n",
       "2         26.0  82.0  22.0  13.1  47.1  2.5   7.1  0.3  2.7        0     1.0\n",
       "3         25.0  89.0  13.0   2.5  28.6  1.3   6.9  0.0  1.7        0     1.0\n",
       "4         27.0  77.0  16.0   0.0  64.8  3.0  14.2  1.2  3.9        0     1.0"
      ]
     },
     "execution_count": 10,
     "metadata": {},
     "output_type": "execute_result"
    }
   ],
   "source": [
    "X.head()"
   ]
  },
  {
   "cell_type": "code",
   "execution_count": 11,
   "metadata": {
    "id": "n1icCttKHXWx",
    "outputId": "0e744e96-62be-4943-c9ac-aff45801b660"
   },
   "outputs": [
    {
     "data": {
      "text/plain": [
       "0      0.5\n",
       "1      0.4\n",
       "2      0.1\n",
       "3      0.0\n",
       "4      0.5\n",
       "      ... \n",
       "239    6.5\n",
       "240    0.0\n",
       "241    0.2\n",
       "242    0.7\n",
       "243    0.5\n",
       "Name: FWI, Length: 244, dtype: float64"
      ]
     },
     "execution_count": 11,
     "metadata": {},
     "output_type": "execute_result"
    }
   ],
   "source": [
    "y"
   ]
  },
  {
   "cell_type": "markdown",
   "metadata": {},
   "source": [
    "## Features for Regression problem : \n",
    "\n",
    "From the visual data analysis it has been observed that For Fire cases FWI is really high. So for regression analysis we should try to find out FWI for the given set of Features. So, higher FWI will automatically point to higher probability of fire incident. So, for Regression problem we should omit 'FWI' from the input features.\n"
   ]
  },
  {
   "cell_type": "code",
   "execution_count": 12,
   "metadata": {
    "id": "ERTXbiMIHXWx"
   },
   "outputs": [],
   "source": [
    "#Train Test Split\n",
    "from sklearn.model_selection import train_test_split\n",
    "X_train,X_test,y_train,y_test=train_test_split(X,y,test_size=0.25,random_state=42)"
   ]
  },
  {
   "cell_type": "code",
   "execution_count": 13,
   "metadata": {
    "id": "qFc-4MwUHXWy",
    "outputId": "ba4ec477-79e4-4c40-e8eb-5585991eb46a"
   },
   "outputs": [
    {
     "data": {
      "text/plain": [
       "((183, 11), (61, 11))"
      ]
     },
     "execution_count": 13,
     "metadata": {},
     "output_type": "execute_result"
    }
   ],
   "source": [
    "X_train.shape,X_test.shape"
   ]
  },
  {
   "cell_type": "code",
   "execution_count": 14,
   "metadata": {
    "id": "Z6p3lMgPHXWz",
    "outputId": "a395bb8c-f0aa-4d4d-b2fe-341f648e7cd7"
   },
   "outputs": [
    {
     "data": {
      "text/html": [
       "<div>\n",
       "<style scoped>\n",
       "    .dataframe tbody tr th:only-of-type {\n",
       "        vertical-align: middle;\n",
       "    }\n",
       "\n",
       "    .dataframe tbody tr th {\n",
       "        vertical-align: top;\n",
       "    }\n",
       "\n",
       "    .dataframe thead th {\n",
       "        text-align: right;\n",
       "    }\n",
       "</style>\n",
       "<table border=\"1\" class=\"dataframe\">\n",
       "  <thead>\n",
       "    <tr style=\"text-align: right;\">\n",
       "      <th></th>\n",
       "      <th>Temperature</th>\n",
       "      <th>RH</th>\n",
       "      <th>Ws</th>\n",
       "      <th>Rain</th>\n",
       "      <th>FFMC</th>\n",
       "      <th>DMC</th>\n",
       "      <th>DC</th>\n",
       "      <th>ISI</th>\n",
       "      <th>BUI</th>\n",
       "      <th>Classes</th>\n",
       "      <th>Region</th>\n",
       "    </tr>\n",
       "  </thead>\n",
       "  <tbody>\n",
       "    <tr>\n",
       "      <th>Temperature</th>\n",
       "      <td>1.000000</td>\n",
       "      <td>-0.664492</td>\n",
       "      <td>-0.249312</td>\n",
       "      <td>-0.375047</td>\n",
       "      <td>0.703238</td>\n",
       "      <td>0.485379</td>\n",
       "      <td>0.374673</td>\n",
       "      <td>0.607478</td>\n",
       "      <td>0.459776</td>\n",
       "      <td>0.512818</td>\n",
       "      <td>0.256099</td>\n",
       "    </tr>\n",
       "    <tr>\n",
       "      <th>RH</th>\n",
       "      <td>-0.664492</td>\n",
       "      <td>1.000000</td>\n",
       "      <td>0.235766</td>\n",
       "      <td>0.262550</td>\n",
       "      <td>-0.637201</td>\n",
       "      <td>-0.398168</td>\n",
       "      <td>-0.215075</td>\n",
       "      <td>-0.691612</td>\n",
       "      <td>-0.345860</td>\n",
       "      <td>-0.429397</td>\n",
       "      <td>-0.397053</td>\n",
       "    </tr>\n",
       "    <tr>\n",
       "      <th>Ws</th>\n",
       "      <td>-0.249312</td>\n",
       "      <td>0.235766</td>\n",
       "      <td>1.000000</td>\n",
       "      <td>0.262759</td>\n",
       "      <td>-0.169489</td>\n",
       "      <td>-0.013533</td>\n",
       "      <td>0.073923</td>\n",
       "      <td>0.011260</td>\n",
       "      <td>0.023266</td>\n",
       "      <td>-0.078171</td>\n",
       "      <td>-0.229797</td>\n",
       "    </tr>\n",
       "    <tr>\n",
       "      <th>Rain</th>\n",
       "      <td>-0.375047</td>\n",
       "      <td>0.262550</td>\n",
       "      <td>0.262759</td>\n",
       "      <td>1.000000</td>\n",
       "      <td>-0.585018</td>\n",
       "      <td>-0.291338</td>\n",
       "      <td>-0.296114</td>\n",
       "      <td>-0.354277</td>\n",
       "      <td>-0.301666</td>\n",
       "      <td>-0.394262</td>\n",
       "      <td>-0.096985</td>\n",
       "    </tr>\n",
       "    <tr>\n",
       "      <th>FFMC</th>\n",
       "      <td>0.703238</td>\n",
       "      <td>-0.637201</td>\n",
       "      <td>-0.169489</td>\n",
       "      <td>-0.585018</td>\n",
       "      <td>1.000000</td>\n",
       "      <td>0.602278</td>\n",
       "      <td>0.508348</td>\n",
       "      <td>0.745644</td>\n",
       "      <td>0.593647</td>\n",
       "      <td>0.774398</td>\n",
       "      <td>0.237434</td>\n",
       "    </tr>\n",
       "    <tr>\n",
       "      <th>DMC</th>\n",
       "      <td>0.485379</td>\n",
       "      <td>-0.398168</td>\n",
       "      <td>-0.013533</td>\n",
       "      <td>-0.291338</td>\n",
       "      <td>0.602278</td>\n",
       "      <td>1.000000</td>\n",
       "      <td>0.877045</td>\n",
       "      <td>0.657983</td>\n",
       "      <td>0.982049</td>\n",
       "      <td>0.580530</td>\n",
       "      <td>0.197489</td>\n",
       "    </tr>\n",
       "    <tr>\n",
       "      <th>DC</th>\n",
       "      <td>0.374673</td>\n",
       "      <td>-0.215075</td>\n",
       "      <td>0.073923</td>\n",
       "      <td>-0.296114</td>\n",
       "      <td>0.508348</td>\n",
       "      <td>0.877045</td>\n",
       "      <td>1.000000</td>\n",
       "      <td>0.503266</td>\n",
       "      <td>0.940947</td>\n",
       "      <td>0.501279</td>\n",
       "      <td>-0.079217</td>\n",
       "    </tr>\n",
       "    <tr>\n",
       "      <th>ISI</th>\n",
       "      <td>0.607478</td>\n",
       "      <td>-0.691612</td>\n",
       "      <td>0.011260</td>\n",
       "      <td>-0.354277</td>\n",
       "      <td>0.745644</td>\n",
       "      <td>0.657983</td>\n",
       "      <td>0.503266</td>\n",
       "      <td>1.000000</td>\n",
       "      <td>0.631317</td>\n",
       "      <td>0.745431</td>\n",
       "      <td>0.264224</td>\n",
       "    </tr>\n",
       "    <tr>\n",
       "      <th>BUI</th>\n",
       "      <td>0.459776</td>\n",
       "      <td>-0.345860</td>\n",
       "      <td>0.023266</td>\n",
       "      <td>-0.301666</td>\n",
       "      <td>0.593647</td>\n",
       "      <td>0.982049</td>\n",
       "      <td>0.940947</td>\n",
       "      <td>0.631317</td>\n",
       "      <td>1.000000</td>\n",
       "      <td>0.583986</td>\n",
       "      <td>0.093371</td>\n",
       "    </tr>\n",
       "    <tr>\n",
       "      <th>Classes</th>\n",
       "      <td>0.512818</td>\n",
       "      <td>-0.429397</td>\n",
       "      <td>-0.078171</td>\n",
       "      <td>-0.394262</td>\n",
       "      <td>0.774398</td>\n",
       "      <td>0.580530</td>\n",
       "      <td>0.501279</td>\n",
       "      <td>0.745431</td>\n",
       "      <td>0.583986</td>\n",
       "      <td>1.000000</td>\n",
       "      <td>0.158763</td>\n",
       "    </tr>\n",
       "    <tr>\n",
       "      <th>Region</th>\n",
       "      <td>0.256099</td>\n",
       "      <td>-0.397053</td>\n",
       "      <td>-0.229797</td>\n",
       "      <td>-0.096985</td>\n",
       "      <td>0.237434</td>\n",
       "      <td>0.197489</td>\n",
       "      <td>-0.079217</td>\n",
       "      <td>0.264224</td>\n",
       "      <td>0.093371</td>\n",
       "      <td>0.158763</td>\n",
       "      <td>1.000000</td>\n",
       "    </tr>\n",
       "  </tbody>\n",
       "</table>\n",
       "</div>"
      ],
      "text/plain": [
       "             Temperature        RH        Ws      Rain      FFMC       DMC  \\\n",
       "Temperature     1.000000 -0.664492 -0.249312 -0.375047  0.703238  0.485379   \n",
       "RH             -0.664492  1.000000  0.235766  0.262550 -0.637201 -0.398168   \n",
       "Ws             -0.249312  0.235766  1.000000  0.262759 -0.169489 -0.013533   \n",
       "Rain           -0.375047  0.262550  0.262759  1.000000 -0.585018 -0.291338   \n",
       "FFMC            0.703238 -0.637201 -0.169489 -0.585018  1.000000  0.602278   \n",
       "DMC             0.485379 -0.398168 -0.013533 -0.291338  0.602278  1.000000   \n",
       "DC              0.374673 -0.215075  0.073923 -0.296114  0.508348  0.877045   \n",
       "ISI             0.607478 -0.691612  0.011260 -0.354277  0.745644  0.657983   \n",
       "BUI             0.459776 -0.345860  0.023266 -0.301666  0.593647  0.982049   \n",
       "Classes         0.512818 -0.429397 -0.078171 -0.394262  0.774398  0.580530   \n",
       "Region          0.256099 -0.397053 -0.229797 -0.096985  0.237434  0.197489   \n",
       "\n",
       "                   DC       ISI       BUI   Classes    Region  \n",
       "Temperature  0.374673  0.607478  0.459776  0.512818  0.256099  \n",
       "RH          -0.215075 -0.691612 -0.345860 -0.429397 -0.397053  \n",
       "Ws           0.073923  0.011260  0.023266 -0.078171 -0.229797  \n",
       "Rain        -0.296114 -0.354277 -0.301666 -0.394262 -0.096985  \n",
       "FFMC         0.508348  0.745644  0.593647  0.774398  0.237434  \n",
       "DMC          0.877045  0.657983  0.982049  0.580530  0.197489  \n",
       "DC           1.000000  0.503266  0.940947  0.501279 -0.079217  \n",
       "ISI          0.503266  1.000000  0.631317  0.745431  0.264224  \n",
       "BUI          0.940947  0.631317  1.000000  0.583986  0.093371  \n",
       "Classes      0.501279  0.745431  0.583986  1.000000  0.158763  \n",
       "Region      -0.079217  0.264224  0.093371  0.158763  1.000000  "
      ]
     },
     "execution_count": 14,
     "metadata": {},
     "output_type": "execute_result"
    }
   ],
   "source": [
    "## Feature Selection based on correlaltion\n",
    "X_train.corr()"
   ]
  },
  {
   "cell_type": "markdown",
   "metadata": {
    "id": "gOIdY1kXHXW1"
   },
   "source": [
    "## Feature Selection"
   ]
  },
  {
   "cell_type": "code",
   "execution_count": 15,
   "metadata": {
    "id": "tcx61AWpHXW6",
    "outputId": "3d859daa-1f42-439e-ac54-c6fa53ac9818"
   },
   "outputs": [
    {
     "data": {
      "text/plain": [
       "<Axes: >"
      ]
     },
     "execution_count": 15,
     "metadata": {},
     "output_type": "execute_result"
    },
    {
     "data": {
      "image/png": "[encoded data removed]",
      "text/plain": [
       "<Figure size 1200x1000 with 2 Axes>"
      ]
     },
     "metadata": {},
     "output_type": "display_data"
    }
   ],
   "source": [
    "## Check for multicollinearity\n",
    "plt.figure(figsize=(12,10))\n",
    "corr=X_train.corr()\n",
    "sns.heatmap(corr,annot=True)\n"
   ]
  },
  {
   "cell_type": "code",
   "execution_count": 16,
   "metadata": {
    "id": "XV1bMRTMHXW7",
    "outputId": "75b4fe9e-1927-423b-bbdf-45f328fb2e7c"
   },
   "outputs": [
    {
     "data": {
      "text/html": [
       "<div>\n",
       "<style scoped>\n",
       "    .dataframe tbody tr th:only-of-type {\n",
       "        vertical-align: middle;\n",
       "    }\n",
       "\n",
       "    .dataframe tbody tr th {\n",
       "        vertical-align: top;\n",
       "    }\n",
       "\n",
       "    .dataframe thead th {\n",
       "        text-align: right;\n",
       "    }\n",
       "</style>\n",
       "<table border=\"1\" class=\"dataframe\">\n",
       "  <thead>\n",
       "    <tr style=\"text-align: right;\">\n",
       "      <th></th>\n",
       "      <th>Temperature</th>\n",
       "      <th>RH</th>\n",
       "      <th>Ws</th>\n",
       "      <th>Rain</th>\n",
       "      <th>FFMC</th>\n",
       "      <th>DMC</th>\n",
       "      <th>DC</th>\n",
       "      <th>ISI</th>\n",
       "      <th>BUI</th>\n",
       "      <th>Classes</th>\n",
       "      <th>Region</th>\n",
       "    </tr>\n",
       "  </thead>\n",
       "  <tbody>\n",
       "    <tr>\n",
       "      <th>Temperature</th>\n",
       "      <td>1.000000</td>\n",
       "      <td>-0.664492</td>\n",
       "      <td>-0.249312</td>\n",
       "      <td>-0.375047</td>\n",
       "      <td>0.703238</td>\n",
       "      <td>0.485379</td>\n",
       "      <td>0.374673</td>\n",
       "      <td>0.607478</td>\n",
       "      <td>0.459776</td>\n",
       "      <td>0.512818</td>\n",
       "      <td>0.256099</td>\n",
       "    </tr>\n",
       "    <tr>\n",
       "      <th>RH</th>\n",
       "      <td>-0.664492</td>\n",
       "      <td>1.000000</td>\n",
       "      <td>0.235766</td>\n",
       "      <td>0.262550</td>\n",
       "      <td>-0.637201</td>\n",
       "      <td>-0.398168</td>\n",
       "      <td>-0.215075</td>\n",
       "      <td>-0.691612</td>\n",
       "      <td>-0.345860</td>\n",
       "      <td>-0.429397</td>\n",
       "      <td>-0.397053</td>\n",
       "    </tr>\n",
       "    <tr>\n",
       "      <th>Ws</th>\n",
       "      <td>-0.249312</td>\n",
       "      <td>0.235766</td>\n",
       "      <td>1.000000</td>\n",
       "      <td>0.262759</td>\n",
       "      <td>-0.169489</td>\n",
       "      <td>-0.013533</td>\n",
       "      <td>0.073923</td>\n",
       "      <td>0.011260</td>\n",
       "      <td>0.023266</td>\n",
       "      <td>-0.078171</td>\n",
       "      <td>-0.229797</td>\n",
       "    </tr>\n",
       "    <tr>\n",
       "      <th>Rain</th>\n",
       "      <td>-0.375047</td>\n",
       "      <td>0.262550</td>\n",
       "      <td>0.262759</td>\n",
       "      <td>1.000000</td>\n",
       "      <td>-0.585018</td>\n",
       "      <td>-0.291338</td>\n",
       "      <td>-0.296114</td>\n",
       "      <td>-0.354277</td>\n",
       "      <td>-0.301666</td>\n",
       "      <td>-0.394262</td>\n",
       "      <td>-0.096985</td>\n",
       "    </tr>\n",
       "    <tr>\n",
       "      <th>FFMC</th>\n",
       "      <td>0.703238</td>\n",
       "      <td>-0.637201</td>\n",
       "      <td>-0.169489</td>\n",
       "      <td>-0.585018</td>\n",
       "      <td>1.000000</td>\n",
       "      <td>0.602278</td>\n",
       "      <td>0.508348</td>\n",
       "      <td>0.745644</td>\n",
       "      <td>0.593647</td>\n",
       "      <td>0.774398</td>\n",
       "      <td>0.237434</td>\n",
       "    </tr>\n",
       "    <tr>\n",
       "      <th>DMC</th>\n",
       "      <td>0.485379</td>\n",
       "      <td>-0.398168</td>\n",
       "      <td>-0.013533</td>\n",
       "      <td>-0.291338</td>\n",
       "      <td>0.602278</td>\n",
       "      <td>1.000000</td>\n",
       "      <td>0.877045</td>\n",
       "      <td>0.657983</td>\n",
       "      <td>0.982049</td>\n",
       "      <td>0.580530</td>\n",
       "      <td>0.197489</td>\n",
       "    </tr>\n",
       "    <tr>\n",
       "      <th>DC</th>\n",
       "      <td>0.374673</td>\n",
       "      <td>-0.215075</td>\n",
       "      <td>0.073923</td>\n",
       "      <td>-0.296114</td>\n",
       "      <td>0.508348</td>\n",
       "      <td>0.877045</td>\n",
       "      <td>1.000000</td>\n",
       "      <td>0.503266</td>\n",
       "      <td>0.940947</td>\n",
       "      <td>0.501279</td>\n",
       "      <td>-0.079217</td>\n",
       "    </tr>\n",
       "    <tr>\n",
       "      <th>ISI</th>\n",
       "      <td>0.607478</td>\n",
       "      <td>-0.691612</td>\n",
       "      <td>0.011260</td>\n",
       "      <td>-0.354277</td>\n",
       "      <td>0.745644</td>\n",
       "      <td>0.657983</td>\n",
       "      <td>0.503266</td>\n",
       "      <td>1.000000</td>\n",
       "      <td>0.631317</td>\n",
       "      <td>0.745431</td>\n",
       "      <td>0.264224</td>\n",
       "    </tr>\n",
       "    <tr>\n",
       "      <th>BUI</th>\n",
       "      <td>0.459776</td>\n",
       "      <td>-0.345860</td>\n",
       "      <td>0.023266</td>\n",
       "      <td>-0.301666</td>\n",
       "      <td>0.593647</td>\n",
       "      <td>0.982049</td>\n",
       "      <td>0.940947</td>\n",
       "      <td>0.631317</td>\n",
       "      <td>1.000000</td>\n",
       "      <td>0.583986</td>\n",
       "      <td>0.093371</td>\n",
       "    </tr>\n",
       "    <tr>\n",
       "      <th>Classes</th>\n",
       "      <td>0.512818</td>\n",
       "      <td>-0.429397</td>\n",
       "      <td>-0.078171</td>\n",
       "      <td>-0.394262</td>\n",
       "      <td>0.774398</td>\n",
       "      <td>0.580530</td>\n",
       "      <td>0.501279</td>\n",
       "      <td>0.745431</td>\n",
       "      <td>0.583986</td>\n",
       "      <td>1.000000</td>\n",
       "      <td>0.158763</td>\n",
       "    </tr>\n",
       "    <tr>\n",
       "      <th>Region</th>\n",
       "      <td>0.256099</td>\n",
       "      <td>-0.397053</td>\n",
       "      <td>-0.229797</td>\n",
       "      <td>-0.096985</td>\n",
       "      <td>0.237434</td>\n",
       "      <td>0.197489</td>\n",
       "      <td>-0.079217</td>\n",
       "      <td>0.264224</td>\n",
       "      <td>0.093371</td>\n",
       "      <td>0.158763</td>\n",
       "      <td>1.000000</td>\n",
       "    </tr>\n",
       "  </tbody>\n",
       "</table>\n",
       "</div>"
      ],
      "text/plain": [
       "             Temperature        RH        Ws      Rain      FFMC       DMC  \\\n",
       "Temperature     1.000000 -0.664492 -0.249312 -0.375047  0.703238  0.485379   \n",
       "RH             -0.664492  1.000000  0.235766  0.262550 -0.637201 -0.398168   \n",
       "Ws             -0.249312  0.235766  1.000000  0.262759 -0.169489 -0.013533   \n",
       "Rain           -0.375047  0.262550  0.262759  1.000000 -0.585018 -0.291338   \n",
       "FFMC            0.703238 -0.637201 -0.169489 -0.585018  1.000000  0.602278   \n",
       "DMC             0.485379 -0.398168 -0.013533 -0.291338  0.602278  1.000000   \n",
       "DC              0.374673 -0.215075  0.073923 -0.296114  0.508348  0.877045   \n",
       "ISI             0.607478 -0.691612  0.011260 -0.354277  0.745644  0.657983   \n",
       "BUI             0.459776 -0.345860  0.023266 -0.301666  0.593647  0.982049   \n",
       "Classes         0.512818 -0.429397 -0.078171 -0.394262  0.774398  0.580530   \n",
       "Region          0.256099 -0.397053 -0.229797 -0.096985  0.237434  0.197489   \n",
       "\n",
       "                   DC       ISI       BUI   Classes    Region  \n",
       "Temperature  0.374673  0.607478  0.459776  0.512818  0.256099  \n",
       "RH          -0.215075 -0.691612 -0.345860 -0.429397 -0.397053  \n",
       "Ws           0.073923  0.011260  0.023266 -0.078171 -0.229797  \n",
       "Rain        -0.296114 -0.354277 -0.301666 -0.394262 -0.096985  \n",
       "FFMC         0.508348  0.745644  0.593647  0.774398  0.237434  \n",
       "DMC          0.877045  0.657983  0.982049  0.580530  0.197489  \n",
       "DC           1.000000  0.503266  0.940947  0.501279 -0.079217  \n",
       "ISI          0.503266  1.000000  0.631317  0.745431  0.264224  \n",
       "BUI          0.940947  0.631317  1.000000  0.583986  0.093371  \n",
       "Classes      0.501279  0.745431  0.583986  1.000000  0.158763  \n",
       "Region      -0.079217  0.264224  0.093371  0.158763  1.000000  "
      ]
     },
     "execution_count": 16,
     "metadata": {},
     "output_type": "execute_result"
    }
   ],
   "source": [
    "X_train.corr()"
   ]
  },
  {
   "cell_type": "code",
   "execution_count": 17,
   "metadata": {
    "id": "czVIwTiiHXW8"
   },
   "outputs": [],
   "source": [
    "def correlation(dataset, threshold):\n",
    "    col_corr = set()\n",
    "    corr_matrix = dataset.corr()\n",
    "    for i in range(len(corr_matrix.columns)):\n",
    "        for j in range(i):\n",
    "            if abs(corr_matrix.iloc[i, j]) > threshold:\n",
    "                colname = corr_matrix.columns[i]\n",
    "                col_corr.add(colname)\n",
    "    return col_corr"
   ]
  },
  {
   "cell_type": "code",
   "execution_count": 18,
   "metadata": {
    "id": "kJwbFU67HXW-"
   },
   "outputs": [],
   "source": [
    "## threshold--Domain expertise\n",
    "corr_features=correlation(X_train,0.85)"
   ]
  },
  {
   "cell_type": "code",
   "execution_count": 19,
   "metadata": {
    "id": "mcpFStiQHXW_",
    "outputId": "99317640-3961-4b13-d628-4576116bc1f7"
   },
   "outputs": [
    {
     "data": {
      "text/plain": [
       "{'BUI', 'DC'}"
      ]
     },
     "execution_count": 19,
     "metadata": {},
     "output_type": "execute_result"
    }
   ],
   "source": [
    "corr_features"
   ]
  },
  {
   "cell_type": "code",
   "execution_count": 20,
   "metadata": {
    "id": "1FGA5zRmHXXA",
    "outputId": "63b5ee7e-6098-4e28-b385-c2ebef8baa6e"
   },
   "outputs": [
    {
     "data": {
      "text/plain": [
       "((183, 9), (61, 9))"
      ]
     },
     "execution_count": 20,
     "metadata": {},
     "output_type": "execute_result"
    }
   ],
   "source": [
    "## drop features when correlation is more than 0.85\n",
    "X_train.drop(corr_features,axis=1,inplace=True)\n",
    "X_test.drop(corr_features,axis=1,inplace=True)\n",
    "X_train.shape,X_test.shape"
   ]
  },
  {
   "cell_type": "markdown",
   "metadata": {
    "id": "uYt41ACIHXXA"
   },
   "source": [
    "## Feature Scaling Or Standardization"
   ]
  },
  {
   "cell_type": "code",
   "execution_count": 21,
   "metadata": {
    "id": "p3VVEAVeHXXB"
   },
   "outputs": [],
   "source": [
    "from sklearn.preprocessing import StandardScaler\n",
    "scaler=StandardScaler()\n",
    "X_train_scaled=scaler.fit_transform(X_train)\n",
    "X_test_scaled=scaler.transform(X_test)"
   ]
  },
  {
   "cell_type": "code",
   "execution_count": 22,
   "metadata": {
    "id": "5x6sfm5_HXXC",
    "outputId": "96c34ec6-5b44-439e-9de4-a204be0fb7f6"
   },
   "outputs": [
    {
     "data": {
      "text/plain": [
       "array([[-0.81085018,  0.16311382,  1.29231566, ..., -0.77409606,\n",
       "        -1.1098231 , -1.00547949],\n",
       "       [ 1.06405791, -0.44884168,  0.15167049, ...,  0.84971776,\n",
       "         0.9010445 ,  0.99455037],\n",
       "       [-0.27516216,  0.63907922, -0.60875963, ..., -0.21666743,\n",
       "         0.9010445 ,  0.99455037],\n",
       "       ...,\n",
       "       [-1.88222624,  0.91105944,  0.53188555, ..., -1.08916441,\n",
       "        -1.1098231 , -1.00547949],\n",
       "       [ 0.26052587, -0.38084663,  0.15167049, ...,  0.48617735,\n",
       "         0.9010445 ,  0.99455037],\n",
       "       [-0.54300617,  0.9790545 ,  2.05274578, ..., -0.87104017,\n",
       "        -1.1098231 , -1.00547949]])"
      ]
     },
     "execution_count": 22,
     "metadata": {},
     "output_type": "execute_result"
    }
   ],
   "source": [
    "X_train_scaled"
   ]
  },
  {
   "cell_type": "markdown",
   "metadata": {
    "id": "BD0gDnWtHXXD"
   },
   "source": [
    "## Linear Regression Model"
   ]
  },
  {
   "cell_type": "code",
   "execution_count": 23,
   "metadata": {
    "id": "w8iysLQkHXXD",
    "outputId": "2be34b0a-e3ca-48a4-e7d2-180dd7891310"
   },
   "outputs": [
    {
     "data": {
      "text/html": [
       "<style>#sk-container-id-1 {color: black;background-color: white;}#sk-container-id-1 pre{padding: 0;}#sk-container-id-1 div.sk-toggleable {background-color: white;}#sk-container-id-1 label.sk-toggleable__label {cursor: pointer;display: block;width: 100%;margin-bottom: 0;padding: 0.3em;box-sizing: border-box;text-align: center;}#sk-container-id-1 label.sk-toggleable__label-arrow:before {content: \"▸\";float: left;margin-right: 0.25em;color: #696969;}#sk-container-id-1 label.sk-toggleable__label-arrow:hover:before {color: black;}#sk-container-id-1 div.sk-estimator:hover label.sk-toggleable__label-arrow:before {color: black;}#sk-container-id-1 div.sk-toggleable__content {max-height: 0;max-width: 0;overflow: hidden;text-align: left;background-color: #f0f8ff;}#sk-container-id-1 div.sk-toggleable__content pre {margin: 0.2em;color: black;border-radius: 0.25em;background-color: #f0f8ff;}#sk-container-id-1 input.sk-toggleable__control:checked~div.sk-toggleable__content {max-height: 200px;max-width: 100%;overflow: auto;}#sk-container-id-1 input.sk-toggleable__control:checked~label.sk-toggleable__label-arrow:before {content: \"▾\";}#sk-container-id-1 div.sk-estimator input.sk-toggleable__control:checked~label.sk-toggleable__label {background-color: #d4ebff;}#sk-container-id-1 div.sk-label input.sk-toggleable__control:checked~label.sk-toggleable__label {background-color: #d4ebff;}#sk-container-id-1 input.sk-hidden--visually {border: 0;clip: rect(1px 1px 1px 1px);clip: rect(1px, 1px, 1px, 1px);height: 1px;margin: -1px;overflow: hidden;padding: 0;position: absolute;width: 1px;}#sk-container-id-1 div.sk-estimator {font-family: monospace;background-color: #f0f8ff;border: 1px dotted black;border-radius: 0.25em;box-sizing: border-box;margin-bottom: 0.5em;}#sk-container-id-1 div.sk-estimator:hover {background-color: #d4ebff;}#sk-container-id-1 div.sk-parallel-item::after {content: \"\";width: 100%;border-bottom: 1px solid gray;flex-grow: 1;}#sk-container-id-1 div.sk-label:hover label.sk-toggleable__label {background-color: #d4ebff;}#sk-container-id-1 div.sk-serial::before {content: \"\";position: absolute;border-left: 1px solid gray;box-sizing: border-box;top: 0;bottom: 0;left: 50%;z-index: 0;}#sk-container-id-1 div.sk-serial {display: flex;flex-direction: column;align-items: center;background-color: white;padding-right: 0.2em;padding-left: 0.2em;position: relative;}#sk-container-id-1 div.sk-item {position: relative;z-index: 1;}#sk-container-id-1 div.sk-parallel {display: flex;align-items: stretch;justify-content: center;background-color: white;position: relative;}#sk-container-id-1 div.sk-item::before, #sk-container-id-1 div.sk-parallel-item::before {content: \"\";position: absolute;border-left: 1px solid gray;box-sizing: border-box;top: 0;bottom: 0;left: 50%;z-index: -1;}#sk-container-id-1 div.sk-parallel-item {display: flex;flex-direction: column;z-index: 1;position: relative;background-color: white;}#sk-container-id-1 div.sk-parallel-item:first-child::after {align-self: flex-end;width: 50%;}#sk-container-id-1 div.sk-parallel-item:last-child::after {align-self: flex-start;width: 50%;}#sk-container-id-1 div.sk-parallel-item:only-child::after {width: 0;}#sk-container-id-1 div.sk-dashed-wrapped {border: 1px dashed gray;margin: 0 0.4em 0.5em 0.4em;box-sizing: border-box;padding-bottom: 0.4em;background-color: white;}#sk-container-id-1 div.sk-label label {font-family: monospace;font-weight: bold;display: inline-block;line-height: 1.2em;}#sk-container-id-1 div.sk-label-container {text-align: center;}#sk-container-id-1 div.sk-container {/* jupyter's `normalize.less` sets `[hidden] { display: none; }` but bootstrap.min.css set `[hidden] { display: none !important; }` so we also need the `!important` here to be able to override the default hidden behavior on the sphinx rendered scikit-learn.org. See: https://github.com/scikit-learn/scikit-learn/issues/21755 */display: inline-block !important;position: relative;}#sk-container-id-1 div.sk-text-repr-fallback {display: none;}</style><div id=\"sk-container-id-1\" class=\"sk-top-container\"><div class=\"sk-text-repr-fallback\"><pre>LinearRegression()</pre><b>In a Jupyter environment, please rerun this cell to show the HTML representation or trust the notebook. <br />On GitHub, the HTML representation is unable to render, please try loading this page with nbviewer.org.</b></div><div class=\"sk-container\" hidden><div class=\"sk-item\"><div class=\"sk-estimator sk-toggleable\"><input class=\"sk-toggleable__control sk-hidden--visually\" id=\"sk-estimator-id-1\" type=\"checkbox\" checked><label for=\"sk-estimator-id-1\" class=\"sk-toggleable__label sk-toggleable__label-arrow\">LinearRegression</label><div class=\"sk-toggleable__content\"><pre>LinearRegression()</pre></div></div></div></div></div>"
      ],
      "text/plain": [
       "LinearRegression()"
      ]
     },
     "execution_count": 23,
     "metadata": {},
     "output_type": "execute_result"
    }
   ],
   "source": [
    "from sklearn.linear_model import LinearRegression\n",
    "from sklearn.metrics import r2_score, mean_squared_error, mean_absolute_error\n",
    "linreg=LinearRegression()\n",
    "linreg.fit(X_train_scaled,y_train)"
   ]
  },
  {
   "cell_type": "code",
   "execution_count": 24,
   "metadata": {},
   "outputs": [],
   "source": [
    "## prediction for the test data\n",
    "y_pred_linear_reg=linreg.predict(X_test_scaled)"
   ]
  },
  {
   "cell_type": "code",
   "execution_count": 25,
   "metadata": {},
   "outputs": [
    {
     "name": "stdout",
     "output_type": "stream",
     "text": [
      "[-0.00938081 -0.1163507   0.06247836 -0.05623522 -0.81157106  3.57272188\n",
      "  4.60053476  0.49465899 -0.40063495]\n"
     ]
    }
   ],
   "source": [
    "## print the coefficients\n",
    "print(linreg.coef_)"
   ]
  },
  {
   "cell_type": "code",
   "execution_count": 26,
   "metadata": {},
   "outputs": [
    {
     "name": "stdout",
     "output_type": "stream",
     "text": [
      "6.9568306010928955\n"
     ]
    }
   ],
   "source": [
    "## print the intercept\n",
    "print(linreg.intercept_)"
   ]
  },
  {
   "cell_type": "code",
   "execution_count": 27,
   "metadata": {},
   "outputs": [
    {
     "name": "stdout",
     "output_type": "stream",
     "text": [
      "Mean absolute error 0.5516452785962682\n",
      "mean_squared_error 0.5604072092821928\n",
      "R2 Score 0.990325441548238\n"
     ]
    }
   ],
   "source": [
    "mae=mean_absolute_error(y_test,y_pred_linear_reg)\n",
    "MSE = mean_squared_error(y_test,y_pred_linear_reg)\n",
    "score=r2_score(y_test,y_pred_linear_reg)\n",
    "print(\"Mean absolute error\", mae)\n",
    "print(\"mean_squared_error\",MSE)\n",
    "print(\"R2 Score\", score)"
   ]
  },
  {
   "cell_type": "code",
   "execution_count": null,
   "metadata": {},
   "outputs": [],
   "source": []
  },
  {
   "cell_type": "markdown",
   "metadata": {
    "id": "vm94UHqjHXXE"
   },
   "source": [
    "## Lasso Regression"
   ]
  },
  {
   "cell_type": "code",
   "execution_count": 28,
   "metadata": {
    "id": "hLUErVQhHXXE",
    "outputId": "596c1db8-b9cb-40ca-9eb3-b699dcb7c743"
   },
   "outputs": [
    {
     "name": "stdout",
     "output_type": "stream",
     "text": [
      "Mean absolute error 1.1862508609509752\n",
      "mean_squared_error 2.738810860288379\n",
      "R2 Score 0.9527186921986257\n"
     ]
    }
   ],
   "source": [
    "from sklearn.linear_model import Lasso\n",
    "from sklearn.metrics import mean_absolute_error\n",
    "from sklearn.metrics import r2_score\n",
    "lasso=Lasso()\n",
    "lasso.fit(X_train_scaled,y_train)\n",
    "y_pred_lasso=lasso.predict(X_test_scaled)\n",
    "mae=mean_absolute_error(y_test,y_pred_lasso)\n",
    "MSE = mean_squared_error(y_test,y_pred_lasso)\n",
    "score=r2_score(y_test,y_pred_lasso)\n",
    "print(\"Mean absolute error\", mae)\n",
    "print(\"mean_squared_error\",MSE)\n",
    "print(\"R2 Score\", score)"
   ]
  },
  {
   "cell_type": "markdown",
   "metadata": {
    "id": "uUAoi2ZEHXXE"
   },
   "source": [
    "## Ridge Regression model"
   ]
  },
  {
   "cell_type": "code",
   "execution_count": 29,
   "metadata": {
    "id": "MQCU9YlJHXXF",
    "outputId": "1a2ea591-d946-4c46-882a-572e1ee15e74"
   },
   "outputs": [
    {
     "name": "stdout",
     "output_type": "stream",
     "text": [
      "Mean absolute error 0.5779554428412208\n",
      "mean_squared_error 0.5994739929606641\n",
      "R2 Score 0.9896510143175394\n"
     ]
    }
   ],
   "source": [
    "from sklearn.linear_model import Ridge\n",
    "from sklearn.metrics import mean_absolute_error\n",
    "from sklearn.metrics import r2_score\n",
    "ridge=Ridge()\n",
    "ridge.fit(X_train_scaled,y_train)\n",
    "y_pred_ridge=ridge.predict(X_test_scaled)\n",
    "mae=mean_absolute_error(y_test,y_pred_ridge)\n",
    "MSE = mean_squared_error(y_test,y_pred_ridge)\n",
    "score=r2_score(y_test,y_pred_ridge)\n",
    "print(\"Mean absolute error\", mae)\n",
    "print(\"mean_squared_error\",MSE)\n",
    "print(\"R2 Score\", score)"
   ]
  },
  {
   "cell_type": "code",
   "execution_count": 30,
   "metadata": {
    "id": "bJhIvZzjHXXG"
   },
   "outputs": [],
   "source": [
    "from sklearn.neighbors import KNeighborsRegressor\n",
    "from sklearn.svm import SVR\n",
    "from sklearn.tree import DecisionTreeRegressor\n",
    "from sklearn.ensemble import RandomForestRegressor"
   ]
  },
  {
   "cell_type": "code",
   "execution_count": null,
   "metadata": {},
   "outputs": [],
   "source": []
  },
  {
   "cell_type": "markdown",
   "metadata": {},
   "source": [
    "# SVR"
   ]
  },
  {
   "cell_type": "code",
   "execution_count": 31,
   "metadata": {
    "id": "FPxeohf3HXXH"
   },
   "outputs": [
    {
     "name": "stdout",
     "output_type": "stream",
     "text": [
      "Mean absolute error 1.5151237677571157\n",
      "mean_squared_error 11.174364670758894\n",
      "R2 Score 0.8070919817269445\n"
     ]
    }
   ],
   "source": [
    "regessorsvr = SVR()\n",
    "regessorsvr.fit(X_train_scaled,y_train)\n",
    "y_pred_SVR=regessorsvr.predict(X_test_scaled)\n",
    "mae=mean_absolute_error(y_test,y_pred_SVR)\n",
    "MSE = mean_squared_error(y_test,y_pred_SVR)\n",
    "score=r2_score(y_test,y_pred_SVR)\n",
    "print(\"Mean absolute error\", mae)\n",
    "print(\"mean_squared_error\",MSE)\n",
    "print(\"R2 Score\", score)"
   ]
  },
  {
   "cell_type": "markdown",
   "metadata": {},
   "source": [
    "# KNeighborsRegressor"
   ]
  },
  {
   "cell_type": "code",
   "execution_count": 32,
   "metadata": {},
   "outputs": [
    {
     "name": "stdout",
     "output_type": "stream",
     "text": [
      "Mean absolute error 1.2203278688524588\n",
      "mean_squared_error 3.6389114754098353\n",
      "R2 Score 0.9371798556718556\n"
     ]
    }
   ],
   "source": [
    "from sklearn.neighbors import KNeighborsRegressor\n",
    "regessorknn = KNeighborsRegressor()\n",
    "regessorknn.fit(X_train_scaled, y_train)\n",
    "y_pred_Knn=regessorknn.predict(X_test_scaled)\n",
    "mae=mean_absolute_error(y_test,y_pred_Knn)\n",
    "MSE = mean_squared_error(y_test,y_pred_Knn)\n",
    "score=r2_score(y_test,y_pred_Knn)\n",
    "print(\"Mean absolute error\", mae)\n",
    "print(\"mean_squared_error\",MSE)\n",
    "print(\"R2 Score\", score)"
   ]
  },
  {
   "cell_type": "markdown",
   "metadata": {},
   "source": [
    "# DecisionTreeRegressor"
   ]
  },
  {
   "cell_type": "code",
   "execution_count": 33,
   "metadata": {},
   "outputs": [
    {
     "name": "stdout",
     "output_type": "stream",
     "text": [
      "Mean absolute error 1.0868852459016394\n",
      "mean_squared_error 2.870655737704918\n",
      "R2 Score 0.9504425955460407\n"
     ]
    }
   ],
   "source": [
    "regessordt = DecisionTreeRegressor()\n",
    "regessordt.fit(X_train_scaled, y_train)\n",
    "y_pred_DT=regessordt.predict(X_test_scaled)\n",
    "mae=mean_absolute_error(y_test,y_pred_DT)\n",
    "MSE = mean_squared_error(y_test,y_pred_DT)\n",
    "score=r2_score(y_test,y_pred_DT)\n",
    "print(\"Mean absolute error\", mae)\n",
    "print(\"mean_squared_error\",MSE)\n",
    "print(\"R2 Score\", score)\n"
   ]
  },
  {
   "cell_type": "markdown",
   "metadata": {},
   "source": [
    "# RandomForestRegressor"
   ]
  },
  {
   "cell_type": "code",
   "execution_count": 34,
   "metadata": {},
   "outputs": [
    {
     "name": "stdout",
     "output_type": "stream",
     "text": [
      "Mean absolute error 0.8136065573770493\n",
      "mean_squared_error 1.6093652786885255\n",
      "R2 Score 0.972216812701515\n"
     ]
    }
   ],
   "source": [
    "regressorRF = RandomForestRegressor()\n",
    "regressorRF.fit(X_train_scaled, y_train)\n",
    "y_pred_RF=regressorRF.predict(X_test_scaled)\n",
    "mae=mean_absolute_error(y_test,y_pred_RF)\n",
    "MSE = mean_squared_error(y_test,y_pred_RF)\n",
    "score=r2_score(y_test,y_pred_RF)\n",
    "print(\"Mean absolute error\", mae)\n",
    "print(\"mean_squared_error\",MSE)\n",
    "print(\"R2 Score\", score)"
   ]
  },
  {
   "cell_type": "markdown",
   "metadata": {},
   "source": [
    "# Hyperparameter tuning by GridSearchCV"
   ]
  },
  {
   "cell_type": "code",
   "execution_count": 35,
   "metadata": {},
   "outputs": [],
   "source": [
    "from sklearn.model_selection import GridSearchCV\n",
    "param_grid = {\n",
    "    'n_estimators': [10, 50, 100],\n",
    "    'max_depth': [None, 10, 20, 30],\n",
    "    'min_samples_split': [2, 5, 10],\n",
    "    'min_samples_leaf': [1, 2, 4]\n",
    "}\n"
   ]
  },
  {
   "cell_type": "code",
   "execution_count": 36,
   "metadata": {},
   "outputs": [],
   "source": [
    "grid_search = GridSearchCV(estimator=regressorRF, param_grid=param_grid, cv=5, scoring='neg_mean_squared_error', n_jobs=-1)"
   ]
  },
  {
   "cell_type": "code",
   "execution_count": 37,
   "metadata": {},
   "outputs": [
    {
     "data": {
      "text/html": [
       "<style>#sk-container-id-2 {color: black;background-color: white;}#sk-container-id-2 pre{padding: 0;}#sk-container-id-2 div.sk-toggleable {background-color: white;}#sk-container-id-2 label.sk-toggleable__label {cursor: pointer;display: block;width: 100%;margin-bottom: 0;padding: 0.3em;box-sizing: border-box;text-align: center;}#sk-container-id-2 label.sk-toggleable__label-arrow:before {content: \"▸\";float: left;margin-right: 0.25em;color: #696969;}#sk-container-id-2 label.sk-toggleable__label-arrow:hover:before {color: black;}#sk-container-id-2 div.sk-estimator:hover label.sk-toggleable__label-arrow:before {color: black;}#sk-container-id-2 div.sk-toggleable__content {max-height: 0;max-width: 0;overflow: hidden;text-align: left;background-color: #f0f8ff;}#sk-container-id-2 div.sk-toggleable__content pre {margin: 0.2em;color: black;border-radius: 0.25em;background-color: #f0f8ff;}#sk-container-id-2 input.sk-toggleable__control:checked~div.sk-toggleable__content {max-height: 200px;max-width: 100%;overflow: auto;}#sk-container-id-2 input.sk-toggleable__control:checked~label.sk-toggleable__label-arrow:before {content: \"▾\";}#sk-container-id-2 div.sk-estimator input.sk-toggleable__control:checked~label.sk-toggleable__label {background-color: #d4ebff;}#sk-container-id-2 div.sk-label input.sk-toggleable__control:checked~label.sk-toggleable__label {background-color: #d4ebff;}#sk-container-id-2 input.sk-hidden--visually {border: 0;clip: rect(1px 1px 1px 1px);clip: rect(1px, 1px, 1px, 1px);height: 1px;margin: -1px;overflow: hidden;padding: 0;position: absolute;width: 1px;}#sk-container-id-2 div.sk-estimator {font-family: monospace;background-color: #f0f8ff;border: 1px dotted black;border-radius: 0.25em;box-sizing: border-box;margin-bottom: 0.5em;}#sk-container-id-2 div.sk-estimator:hover {background-color: #d4ebff;}#sk-container-id-2 div.sk-parallel-item::after {content: \"\";width: 100%;border-bottom: 1px solid gray;flex-grow: 1;}#sk-container-id-2 div.sk-label:hover label.sk-toggleable__label {background-color: #d4ebff;}#sk-container-id-2 div.sk-serial::before {content: \"\";position: absolute;border-left: 1px solid gray;box-sizing: border-box;top: 0;bottom: 0;left: 50%;z-index: 0;}#sk-container-id-2 div.sk-serial {display: flex;flex-direction: column;align-items: center;background-color: white;padding-right: 0.2em;padding-left: 0.2em;position: relative;}#sk-container-id-2 div.sk-item {position: relative;z-index: 1;}#sk-container-id-2 div.sk-parallel {display: flex;align-items: stretch;justify-content: center;background-color: white;position: relative;}#sk-container-id-2 div.sk-item::before, #sk-container-id-2 div.sk-parallel-item::before {content: \"\";position: absolute;border-left: 1px solid gray;box-sizing: border-box;top: 0;bottom: 0;left: 50%;z-index: -1;}#sk-container-id-2 div.sk-parallel-item {display: flex;flex-direction: column;z-index: 1;position: relative;background-color: white;}#sk-container-id-2 div.sk-parallel-item:first-child::after {align-self: flex-end;width: 50%;}#sk-container-id-2 div.sk-parallel-item:last-child::after {align-self: flex-start;width: 50%;}#sk-container-id-2 div.sk-parallel-item:only-child::after {width: 0;}#sk-container-id-2 div.sk-dashed-wrapped {border: 1px dashed gray;margin: 0 0.4em 0.5em 0.4em;box-sizing: border-box;padding-bottom: 0.4em;background-color: white;}#sk-container-id-2 div.sk-label label {font-family: monospace;font-weight: bold;display: inline-block;line-height: 1.2em;}#sk-container-id-2 div.sk-label-container {text-align: center;}#sk-container-id-2 div.sk-container {/* jupyter's `normalize.less` sets `[hidden] { display: none; }` but bootstrap.min.css set `[hidden] { display: none !important; }` so we also need the `!important` here to be able to override the default hidden behavior on the sphinx rendered scikit-learn.org. See: https://github.com/scikit-learn/scikit-learn/issues/21755 */display: inline-block !important;position: relative;}#sk-container-id-2 div.sk-text-repr-fallback {display: none;}</style><div id=\"sk-container-id-2\" class=\"sk-top-container\"><div class=\"sk-text-repr-fallback\"><pre>GridSearchCV(cv=5, estimator=RandomForestRegressor(), n_jobs=-1,\n",
       "             param_grid={&#x27;max_depth&#x27;: [None, 10, 20, 30],\n",
       "                         &#x27;min_samples_leaf&#x27;: [1, 2, 4],\n",
       "                         &#x27;min_samples_split&#x27;: [2, 5, 10],\n",
       "                         &#x27;n_estimators&#x27;: [10, 50, 100]},\n",
       "             scoring=&#x27;neg_mean_squared_error&#x27;)</pre><b>In a Jupyter environment, please rerun this cell to show the HTML representation or trust the notebook. <br />On GitHub, the HTML representation is unable to render, please try loading this page with nbviewer.org.</b></div><div class=\"sk-container\" hidden><div class=\"sk-item sk-dashed-wrapped\"><div class=\"sk-label-container\"><div class=\"sk-label sk-toggleable\"><input class=\"sk-toggleable__control sk-hidden--visually\" id=\"sk-estimator-id-2\" type=\"checkbox\" ><label for=\"sk-estimator-id-2\" class=\"sk-toggleable__label sk-toggleable__label-arrow\">GridSearchCV</label><div class=\"sk-toggleable__content\"><pre>GridSearchCV(cv=5, estimator=RandomForestRegressor(), n_jobs=-1,\n",
       "             param_grid={&#x27;max_depth&#x27;: [None, 10, 20, 30],\n",
       "                         &#x27;min_samples_leaf&#x27;: [1, 2, 4],\n",
       "                         &#x27;min_samples_split&#x27;: [2, 5, 10],\n",
       "                         &#x27;n_estimators&#x27;: [10, 50, 100]},\n",
       "             scoring=&#x27;neg_mean_squared_error&#x27;)</pre></div></div></div><div class=\"sk-parallel\"><div class=\"sk-parallel-item\"><div class=\"sk-item\"><div class=\"sk-label-container\"><div class=\"sk-label sk-toggleable\"><input class=\"sk-toggleable__control sk-hidden--visually\" id=\"sk-estimator-id-3\" type=\"checkbox\" ><label for=\"sk-estimator-id-3\" class=\"sk-toggleable__label sk-toggleable__label-arrow\">estimator: RandomForestRegressor</label><div class=\"sk-toggleable__content\"><pre>RandomForestRegressor()</pre></div></div></div><div class=\"sk-serial\"><div class=\"sk-item\"><div class=\"sk-estimator sk-toggleable\"><input class=\"sk-toggleable__control sk-hidden--visually\" id=\"sk-estimator-id-4\" type=\"checkbox\" ><label for=\"sk-estimator-id-4\" class=\"sk-toggleable__label sk-toggleable__label-arrow\">RandomForestRegressor</label><div class=\"sk-toggleable__content\"><pre>RandomForestRegressor()</pre></div></div></div></div></div></div></div></div></div></div>"
      ],
      "text/plain": [
       "GridSearchCV(cv=5, estimator=RandomForestRegressor(), n_jobs=-1,\n",
       "             param_grid={'max_depth': [None, 10, 20, 30],\n",
       "                         'min_samples_leaf': [1, 2, 4],\n",
       "                         'min_samples_split': [2, 5, 10],\n",
       "                         'n_estimators': [10, 50, 100]},\n",
       "             scoring='neg_mean_squared_error')"
      ]
     },
     "execution_count": 37,
     "metadata": {},
     "output_type": "execute_result"
    }
   ],
   "source": [
    "grid_search.fit(X_train_scaled, y_train)"
   ]
  },
  {
   "cell_type": "code",
   "execution_count": null,
   "metadata": {},
   "outputs": [],
   "source": []
  },
  {
   "cell_type": "code",
   "execution_count": 38,
   "metadata": {},
   "outputs": [
    {
     "name": "stdout",
     "output_type": "stream",
     "text": [
      "Best Parameters:  {'max_depth': 20, 'min_samples_leaf': 1, 'min_samples_split': 2, 'n_estimators': 50}\n"
     ]
    }
   ],
   "source": [
    "# Print the best parameters \n",
    "print(\"Best Parameters: \", grid_search.best_params_)\n"
   ]
  },
  {
   "cell_type": "code",
   "execution_count": 39,
   "metadata": {},
   "outputs": [],
   "source": [
    "# again train our model\n"
   ]
  },
  {
   "cell_type": "code",
   "execution_count": 40,
   "metadata": {},
   "outputs": [
    {
     "name": "stdout",
     "output_type": "stream",
     "text": [
      "Mean absolute error 0.8028013621169353\n",
      "mean_squared_error 1.5444509921771332\n",
      "R2 Score 0.9733374568488544\n"
     ]
    }
   ],
   "source": [
    "regressorRF_ = RandomForestRegressor(max_depth= 10, min_samples_leaf= 4, min_samples_split= 2, n_estimators= 10)\n",
    "regressorRF_.fit(X_train_scaled, y_train)\n",
    "y_pred=regressorRF_.predict(X_test_scaled)\n",
    "mae=mean_absolute_error(y_test,y_pred)\n",
    "MSE = mean_squared_error(y_test,y_pred)\n",
    "score=r2_score(y_test,y_pred)\n",
    "print(\"Mean absolute error\", mae)\n",
    "print(\"mean_squared_error\",MSE)\n",
    "print(\"R2 Score\", score)"
   ]
  },
  {
   "cell_type": "code",
   "execution_count": null,
   "metadata": {},
   "outputs": [],
   "source": []
  },
  {
   "cell_type": "markdown",
   "metadata": {},
   "source": [
    "### Observation : \n",
    "Looking at the above it seems that Linear Regression works pretty well. Next comes Ridge and Random Forest"
   ]
  },
  {
   "cell_type": "code",
   "execution_count": 41,
   "metadata": {},
   "outputs": [],
   "source": [
    "ltype = [y_pred_linear_reg, y_pred_lasso, y_pred_ridge, y_pred_SVR, y_pred_Knn, y_pred_DT, y_pred_RF]"
   ]
  },
  {
   "cell_type": "code",
   "execution_count": 42,
   "metadata": {},
   "outputs": [],
   "source": [
    "lnames = ['Linear Regression', 'Lasso', 'Ridge', 'SVR', 'KNN', 'Decision Tree', 'Random Forest']"
   ]
  },
  {
   "cell_type": "code",
   "execution_count": null,
   "metadata": {},
   "outputs": [],
   "source": []
  },
  {
   "cell_type": "code",
   "execution_count": 43,
   "metadata": {},
   "outputs": [
    {
     "data": {
      "image/png": "[encoded data removed]",
      "text/plain": [
       "<Figure size 2000x1200 with 8 Axes>"
      ]
     },
     "metadata": {},
     "output_type": "display_data"
    }
   ],
   "source": [
    "fig, axes = plt.subplots(2,4, figsize=(20,12) )\n",
    "si = [[0,0], [0,1], [0,2], [0,3], [1,0], [1,1], [1,2], [1,3]]\n",
    "\n",
    "for items in range(0, len(ltype)): \n",
    "    i = si[items][0]\n",
    "    j = si[items][1]\n",
    "    sns.distplot(y_test - ltype[items], ax=axes[i,j])\n",
    "    axes[i,j].set_title(lnames[items])   \n",
    "    axes[i,j].set(xlim=(-10, 10))\n",
    "    \n",
    "    \n",
    "plt.show()"
   ]
  },
  {
   "cell_type": "markdown",
   "metadata": {},
   "source": [
    "# Observations : \n",
    "    \n",
    "\n",
    "- From the above table it is seen that Linear Regression and Ridge  models have very good R2 scores compare to other models. However, the distribution plots show the spread of deviation is very small but the deviations are asymmetrically distributed about zero. This suggests that there is a bias in predicted values. This might be case of low variance and high bias. This means that we need better optimization or these models may not describe the generalized data. \n",
    "\n",
    "- In case of Lasso, KNN and SVM, the variance is more. Addtionally, Lasso has bias. \n",
    "\n",
    "- Where as, in case of Decision tree and Random forest, deviations are symmetrically spread about zero and they are reasonably small. In case of Random Forest we have low variance (also evident from the R2 score) and low bias (evident from the above distribution plot).\n",
    "\n"
   ]
  },
  {
   "cell_type": "markdown",
   "metadata": {},
   "source": [
    "### Looking at we observe: \n",
    "1. R2 score is the highest for Linear Regression. So, one may use this model to predict FWI (our output variable for the regression problem). \n",
    "\n",
    "2. Also we observe that the R2 score for Random Forest is not significantly less than Linear Regression. Moreover, the MAE is quite less (~ 24%) than Linear Regression.   \n",
    "\n",
    "3. Ridge gives a result in between Linear Regression model and Random Forest.  \n",
    "\n",
    "\n",
    "- So, now the question arises which model to be used.\n",
    "One can always go with the model which can be intrepreted visually and has lesser number of parameters. So, one can go with Linear Regression. But if one also take in account of MAE and observe the fitting and data, then one should go with Random Forest. \n",
    "\n",
    "- This far, things are good and we can use any of the above model for prediction. But before doing that we need to confirm that our model is not overfitting. To check that we need to do cross validation of the above models \n",
    "and then conclude anything.    "
   ]
  },
  {
   "cell_type": "code",
   "execution_count": 44,
   "metadata": {},
   "outputs": [],
   "source": [
    "from sklearn.model_selection import cross_val_score"
   ]
  },
  {
   "cell_type": "code",
   "execution_count": 45,
   "metadata": {},
   "outputs": [],
   "source": [
    "list_model_instance = [linreg, lasso, ridge, regessorknn, regessorsvr, regessordt, regressorRF]"
   ]
  },
  {
   "cell_type": "code",
   "execution_count": 46,
   "metadata": {},
   "outputs": [
    {
     "name": "stderr",
     "output_type": "stream",
     "text": [
      "[Parallel(n_jobs=1)]: Using backend SequentialBackend with 1 concurrent workers.\n",
      "[Parallel(n_jobs=1)]: Done  10 out of  10 | elapsed:    0.0s finished\n",
      "[Parallel(n_jobs=1)]: Using backend SequentialBackend with 1 concurrent workers.\n",
      "[Parallel(n_jobs=1)]: Done  10 out of  10 | elapsed:    0.0s finished\n",
      "[Parallel(n_jobs=1)]: Using backend SequentialBackend with 1 concurrent workers.\n",
      "[Parallel(n_jobs=1)]: Done  10 out of  10 | elapsed:    0.0s finished\n",
      "[Parallel(n_jobs=1)]: Using backend SequentialBackend with 1 concurrent workers.\n",
      "[Parallel(n_jobs=1)]: Done  10 out of  10 | elapsed:    0.0s finished\n",
      "[Parallel(n_jobs=1)]: Using backend SequentialBackend with 1 concurrent workers.\n",
      "[Parallel(n_jobs=1)]: Done  10 out of  10 | elapsed:    0.0s finished\n",
      "[Parallel(n_jobs=1)]: Using backend SequentialBackend with 1 concurrent workers.\n",
      "[Parallel(n_jobs=1)]: Done  10 out of  10 | elapsed:    0.0s finished\n",
      "[Parallel(n_jobs=1)]: Using backend SequentialBackend with 1 concurrent workers.\n"
     ]
    },
    {
     "name": "stdout",
     "output_type": "stream",
     "text": [
      "LinearRegression() 0.9442479037679276\n",
      "Lasso() 0.9237364108687338\n",
      "Ridge() 0.9448769367933689\n",
      "KNeighborsRegressor() 0.9306907820878878\n",
      "SVR() 0.8439565683695667\n",
      "DecisionTreeRegressor() 0.9351606377424373\n",
      "RandomForestRegressor() 0.9635542004935811\n"
     ]
    },
    {
     "name": "stderr",
     "output_type": "stream",
     "text": [
      "[Parallel(n_jobs=1)]: Done  10 out of  10 | elapsed:    2.5s finished\n"
     ]
    }
   ],
   "source": [
    "for items in list_model_instance: \n",
    "    scores = cross_val_score(items, X_train_scaled, y_train, scoring = 'r2', cv = 10, verbose=1)\n",
    "    meanscores = np.mean(scores)\n",
    "    print(items, meanscores)"
   ]
  },
  {
   "cell_type": "markdown",
   "metadata": {},
   "source": [
    "It is observed that Random Forest is the best one, then comes the Linear Regression. But as we have mentioned earlier, as the no. of observation set is not a huge one , so we can use both"
   ]
  },
  {
   "cell_type": "code",
   "execution_count": null,
   "metadata": {},
   "outputs": [],
   "source": []
  }
 ],
 "metadata": {
  "colab": {
   "provenance": []
  },
  "kernelspec": {
   "display_name": "Python 3 (ipykernel)",
   "language": "python",
   "name": "python3"
  },
  "language_info": {
   "codemirror_mode": {
    "name": "ipython",
    "version": 3
   },
   "file_extension": ".py",
   "mimetype": "text/x-python",
   "name": "python",
   "nbconvert_exporter": "python",
   "pygments_lexer": "ipython3",
   "version": "3.10.9"
  }
 },
 "nbformat": 4,
 "nbformat_minor": 1
}
